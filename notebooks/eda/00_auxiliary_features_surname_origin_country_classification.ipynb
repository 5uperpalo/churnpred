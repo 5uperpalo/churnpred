{
 "cells": [
  {
   "cell_type": "markdown",
   "metadata": {},
   "source": [
    "## Surname origin country classification\n",
    "\n",
    "* approach shamelessly copied from https://www.kaggle.com/code/yonatankpl/surname-classification-with-bert\n",
    "* NOTE from author:\n",
    "```\n",
    "Based on the discussion [here](https://www.kaggle.com/competitions/playground-series-s4e1/discussion/465517), I created a Bert based Surname classifier.\n",
    "```\n",
    "* possible improvement of the base dataset by scraping wiki: https://github.com/greenelab/wiki-nationality-estimate"
   ]
  },
  {
   "cell_type": "code",
   "execution_count": 1,
   "metadata": {
    "_cell_guid": "b1076dfc-b9ad-4769-8c92-a6c4dae69d19",
    "_uuid": "8f2839f25d086af736a60e9eeb907d3b93b6e0e5",
    "execution": {
     "iopub.execute_input": "2024-01-14T23:04:49.786804Z",
     "iopub.status.busy": "2024-01-14T23:04:49.786425Z",
     "iopub.status.idle": "2024-01-14T23:04:49.795727Z",
     "shell.execute_reply": "2024-01-14T23:04:49.794815Z",
     "shell.execute_reply.started": "2024-01-14T23:04:49.786756Z"
    },
    "trusted": true
   },
   "outputs": [],
   "source": [
    "import os\n",
    "import sys\n",
    "\n",
    "sys.path.append(os.getcwd())\n",
    "os.chdir(\"../..\")\n",
    "\n",
    "import pandas as pd\n",
    "import torch\n",
    "from churn_pred.preprocessing import surname_classification\n",
    "from churn_pred import utils\n",
    "from torch.utils.data import DataLoader\n",
    "import pickle\n",
    "from transformers import (\n",
    "    BertForSequenceClassification,\n",
    "    get_linear_schedule_with_warmup,\n",
    "    BertTokenizer,\n",
    ")\n",
    "from transformers import BertForSequenceClassification"
   ]
  },
  {
   "cell_type": "code",
   "execution_count": 2,
   "metadata": {
    "execution": {
     "iopub.execute_input": "2024-01-14T23:04:50.666776Z",
     "iopub.status.busy": "2024-01-14T23:04:50.666441Z",
     "iopub.status.idle": "2024-01-14T23:04:50.722655Z",
     "shell.execute_reply": "2024-01-14T23:04:50.721673Z",
     "shell.execute_reply.started": "2024-01-14T23:04:50.666736Z"
    },
    "trusted": true
   },
   "outputs": [],
   "source": [
    "surname_data = pd.read_csv(\"data/surnames/surname-nationality.csv\")\n",
    "splitted_data = pd.read_csv(\"data/surnames/surnames_with_splits.csv\")"
   ]
  },
  {
   "cell_type": "code",
   "execution_count": 3,
   "metadata": {
    "execution": {
     "iopub.execute_input": "2024-01-14T23:04:50.879388Z",
     "iopub.status.busy": "2024-01-14T23:04:50.879059Z",
     "iopub.status.idle": "2024-01-14T23:04:50.887945Z",
     "shell.execute_reply": "2024-01-14T23:04:50.886863Z",
     "shell.execute_reply.started": "2024-01-14T23:04:50.879359Z"
    },
    "trusted": true
   },
   "outputs": [],
   "source": [
    "labeld_decoder = dict(\n",
    "    zip(splitted_data[\"nationality\"], splitted_data[\"nationality_index\"])\n",
    ")\n",
    "inverse_label_dict = {v: k for k, v in labeld_decoder.items()}"
   ]
  },
  {
   "cell_type": "code",
   "execution_count": 4,
   "metadata": {
    "execution": {
     "iopub.execute_input": "2024-01-14T23:04:51.087915Z",
     "iopub.status.busy": "2024-01-14T23:04:51.087573Z",
     "iopub.status.idle": "2024-01-14T23:04:51.093838Z",
     "shell.execute_reply": "2024-01-14T23:04:51.092823Z",
     "shell.execute_reply.started": "2024-01-14T23:04:51.087887Z"
    },
    "trusted": true
   },
   "outputs": [],
   "source": [
    "# Split data into train, validation, and test sets\n",
    "train_df = splitted_data[splitted_data[\"split\"] == \"train\"]\n",
    "val_df = splitted_data[\n",
    "    splitted_data[\"split\"] == \"val\"\n",
    "]  # Assuming \"val\" is used for validation set\n",
    "test_df = splitted_data[splitted_data[\"split\"] == \"test\"]"
   ]
  },
  {
   "cell_type": "code",
   "execution_count": 5,
   "metadata": {
    "execution": {
     "iopub.execute_input": "2024-01-14T23:10:41.995639Z",
     "iopub.status.busy": "2024-01-14T23:10:41.995287Z",
     "iopub.status.idle": "2024-01-14T23:10:44.58043Z",
     "shell.execute_reply": "2024-01-14T23:10:44.579647Z",
     "shell.execute_reply.started": "2024-01-14T23:10:41.995613Z"
    },
    "trusted": true
   },
   "outputs": [],
   "source": [
    "# Tokenize each dataset\n",
    "train_encodings = surname_classification.tokenize_data(train_df)\n",
    "val_encodings = surname_classification.tokenize_data(val_df)\n",
    "test_encodings = surname_classification.tokenize_data(test_df)"
   ]
  },
  {
   "cell_type": "code",
   "execution_count": 8,
   "metadata": {
    "execution": {
     "iopub.execute_input": "2024-01-14T23:10:44.58295Z",
     "iopub.status.busy": "2024-01-14T23:10:44.582152Z",
     "iopub.status.idle": "2024-01-14T23:10:44.589836Z",
     "shell.execute_reply": "2024-01-14T23:10:44.588906Z",
     "shell.execute_reply.started": "2024-01-14T23:10:44.582915Z"
    },
    "trusted": true
   },
   "outputs": [],
   "source": [
    "batch_size = 32\n",
    "\n",
    "train_dataset = surname_classification.create_dataset(train_encodings, train_df)\n",
    "val_dataset = surname_classification.create_dataset(val_encodings, val_df)\n",
    "test_dataset = surname_classification.create_dataset(test_encodings, test_df)\n",
    "\n",
    "train_dataloader = DataLoader(train_dataset, batch_size=batch_size, shuffle=True)\n",
    "val_dataloader = DataLoader(val_dataset, batch_size=batch_size)\n",
    "test_dataloader = DataLoader(test_dataset, batch_size=batch_size)"
   ]
  },
  {
   "cell_type": "code",
   "execution_count": 9,
   "metadata": {
    "execution": {
     "iopub.execute_input": "2024-01-14T23:12:19.842192Z",
     "iopub.status.busy": "2024-01-14T23:12:19.841252Z",
     "iopub.status.idle": "2024-01-14T23:12:20.279814Z",
     "shell.execute_reply": "2024-01-14T23:12:20.278947Z",
     "shell.execute_reply.started": "2024-01-14T23:12:19.842156Z"
    },
    "trusted": true
   },
   "outputs": [
    {
     "name": "stderr",
     "output_type": "stream",
     "text": [
      "Some weights of BertForSequenceClassification were not initialized from the model checkpoint at bert-base-cased and are newly initialized: ['classifier.bias', 'classifier.weight']\n",
      "You should probably TRAIN this model on a down-stream task to be able to use it for predictions and inference.\n",
      "/mnt/c/#work/ecovadis/ecovadis/lib/python3.10/site-packages/transformers/optimization.py:521: FutureWarning: This implementation of AdamW is deprecated and will be removed in a future version. Use the PyTorch implementation torch.optim.AdamW instead, or set `no_deprecation_warning=True` to disable this warning\n",
      "  warnings.warn(\n"
     ]
    },
    {
     "data": {
      "text/plain": [
       "BertForSequenceClassification(\n",
       "  (bert): BertModel(\n",
       "    (embeddings): BertEmbeddings(\n",
       "      (word_embeddings): Embedding(28996, 768, padding_idx=0)\n",
       "      (position_embeddings): Embedding(512, 768)\n",
       "      (token_type_embeddings): Embedding(2, 768)\n",
       "      (LayerNorm): LayerNorm((768,), eps=1e-12, elementwise_affine=True)\n",
       "      (dropout): Dropout(p=0.4, inplace=False)\n",
       "    )\n",
       "    (encoder): BertEncoder(\n",
       "      (layer): ModuleList(\n",
       "        (0-11): 12 x BertLayer(\n",
       "          (attention): BertAttention(\n",
       "            (self): BertSelfAttention(\n",
       "              (query): Linear(in_features=768, out_features=768, bias=True)\n",
       "              (key): Linear(in_features=768, out_features=768, bias=True)\n",
       "              (value): Linear(in_features=768, out_features=768, bias=True)\n",
       "              (dropout): Dropout(p=0.1, inplace=False)\n",
       "            )\n",
       "            (output): BertSelfOutput(\n",
       "              (dense): Linear(in_features=768, out_features=768, bias=True)\n",
       "              (LayerNorm): LayerNorm((768,), eps=1e-12, elementwise_affine=True)\n",
       "              (dropout): Dropout(p=0.4, inplace=False)\n",
       "            )\n",
       "          )\n",
       "          (intermediate): BertIntermediate(\n",
       "            (dense): Linear(in_features=768, out_features=3072, bias=True)\n",
       "            (intermediate_act_fn): GELUActivation()\n",
       "          )\n",
       "          (output): BertOutput(\n",
       "            (dense): Linear(in_features=3072, out_features=768, bias=True)\n",
       "            (LayerNorm): LayerNorm((768,), eps=1e-12, elementwise_affine=True)\n",
       "            (dropout): Dropout(p=0.4, inplace=False)\n",
       "          )\n",
       "        )\n",
       "      )\n",
       "    )\n",
       "    (pooler): BertPooler(\n",
       "      (dense): Linear(in_features=768, out_features=768, bias=True)\n",
       "      (activation): Tanh()\n",
       "    )\n",
       "  )\n",
       "  (dropout): Dropout(p=0.4, inplace=False)\n",
       "  (classifier): Linear(in_features=768, out_features=18, bias=True)\n",
       ")"
      ]
     },
     "execution_count": 9,
     "metadata": {},
     "output_type": "execute_result"
    }
   ],
   "source": [
    "num_labels = splitted_data[\"nationality_index\"].nunique()\n",
    "num_epochs = 10\n",
    "model = BertForSequenceClassification.from_pretrained(\n",
    "    \"bert-base-cased\", num_labels=num_labels, hidden_dropout_prob=0.4\n",
    ")\n",
    "# freeze layers\n",
    "for param in model.bert.parameters():\n",
    "    param.requires_grad = False\n",
    "\n",
    "optimizer = surname_classification.create_optimizer(model, learning_rate=5e-5, eps=1e-8)\n",
    "total_steps = len(train_dataloader) * num_epochs\n",
    "\n",
    "scheduler = get_linear_schedule_with_warmup(\n",
    "    optimizer,\n",
    "    num_warmup_steps=0.2,  # Usually a fraction of total_steps\n",
    "    num_training_steps=total_steps,\n",
    ")\n",
    "\n",
    "device = torch.device(\"cuda\" if torch.cuda.is_available() else \"cpu\")\n",
    "model.to(device)"
   ]
  },
  {
   "cell_type": "code",
   "execution_count": 10,
   "metadata": {
    "execution": {
     "iopub.execute_input": "2024-01-14T23:12:21.301369Z",
     "iopub.status.busy": "2024-01-14T23:12:21.30102Z",
     "iopub.status.idle": "2024-01-14T23:22:51.624732Z",
     "shell.execute_reply": "2024-01-14T23:22:51.623668Z",
     "shell.execute_reply.started": "2024-01-14T23:12:21.301342Z"
    },
    "trusted": true
   },
   "outputs": [],
   "source": [
    "trained_model = surname_classification.train_model(\n",
    "    model,\n",
    "    train_dataloader,\n",
    "    val_dataloader,\n",
    "    optimizer,\n",
    "    scheduler,\n",
    "    device,\n",
    "    num_epochs=num_epochs,\n",
    ")"
   ]
  },
  {
   "cell_type": "markdown",
   "metadata": {},
   "source": [
    "**log from running a script on a server**\n",
    "```\n",
    "(ecovadis) pmulinka@supercom-wssonata:~/assignment/ecovadis_assignment$ python notebooks/eda/surname_classification_with_bert.py\n",
    "/home/pmulinka/assignment/ecovadis_assignment\n",
    "Some weights of BertForSequenceClassification were not initialized from the model checkpoint at bert-base-cased and are newly initialized: ['classifier.bias', 'classifier.weight']\n",
    "You should probably TRAIN this model on a down-stream task to be able to use it for predictions and inference.\n",
    "/home/pmulinka/assignment/ecovadis/lib/python3.10/site-packages/transformers/optimization.py:521: FutureWarning: This implementation of AdamW is deprecated and will be removed in a future version. Use the PyTorch implementation torch.optim.AdamW instead, or set `no_deprecation_warning=True` to disable this warning\n",
    "  warnings.warn(\n",
    "\n",
    "Epoch 1/10\n",
    "Training Loss: 2.394\n",
    "Validation Loss: 2.256, Validation Accuracy: 0.267\n",
    "\n",
    "Epoch 2/10\n",
    "Training Loss: 2.267\n",
    "Validation Loss: 2.251, Validation Accuracy: 0.267\n",
    "\n",
    "Epoch 3/10\n",
    "Training Loss: 2.265\n",
    "Validation Loss: 2.243, Validation Accuracy: 0.306\n",
    "\n",
    "Epoch 4/10\n",
    "Training Loss: 2.250\n",
    "Validation Loss: 2.237, Validation Accuracy: 0.385\n",
    "\n",
    "Epoch 5/10\n",
    "Training Loss: 2.251\n",
    "Validation Loss: 2.227, Validation Accuracy: 0.317\n",
    "\n",
    "Epoch 6/10\n",
    "Training Loss: 1.620\n",
    "Validation Loss: 0.982, Validation Accuracy: 0.735\n",
    "\n",
    "Epoch 7/10\n",
    "Training Loss: 1.062\n",
    "Validation Loss: 0.826, Validation Accuracy: 0.772\n",
    "\n",
    "Epoch 8/10\n",
    "Training Loss: 0.911\n",
    "Validation Loss: 0.799, Validation Accuracy: 0.785\n",
    "\n",
    "Epoch 9/10\n",
    "Training Loss: 0.832\n",
    "Validation Loss: 0.775, Validation Accuracy: 0.791\n",
    "\n",
    "Epoch 10/10\n",
    "Training Loss: 0.780\n",
    "Validation Loss: 0.768, Validation Accuracy: 0.790\n",
    "Training complete\n",
    "Evaluation on test dataset yield\n",
    "Loss: 0.7684005849206677\n",
    "Accuracy: 0.7960164835164836\n",
    "```"
   ]
  },
  {
   "cell_type": "code",
   "execution_count": null,
   "metadata": {
    "trusted": true
   },
   "outputs": [],
   "source": [
    "loss, accuracy = surname_classification.evaluate_model(\n",
    "    trained_model, test_dataloader, device\n",
    ")\n",
    "print(f\"Evaluation on test dataset yield\\nLoss: {loss}\\nAccuracy: {accuracy}\")"
   ]
  },
  {
   "cell_type": "code",
   "execution_count": 8,
   "metadata": {},
   "outputs": [
    {
     "data": {
      "text/plain": [
       "{15: 'Arabic',\n",
       " 3: 'Chinese',\n",
       " 5: 'Czech',\n",
       " 2: 'Dutch',\n",
       " 12: 'English',\n",
       " 8: 'French',\n",
       " 9: 'German',\n",
       " 4: 'Greek',\n",
       " 1: 'Irish',\n",
       " 17: 'Italian',\n",
       " 7: 'Japanese',\n",
       " 16: 'Korean',\n",
       " 14: 'Polish',\n",
       " 0: 'Portuguese',\n",
       " 13: 'Russian',\n",
       " 10: 'Scottish',\n",
       " 6: 'Spanish',\n",
       " 11: 'Vietnamese'}"
      ]
     },
     "execution_count": 8,
     "metadata": {},
     "output_type": "execute_result"
    }
   ],
   "source": [
    "inverse_label_dict"
   ]
  },
  {
   "cell_type": "code",
   "execution_count": 7,
   "metadata": {},
   "outputs": [],
   "source": [
    "utils.dill_dump(\n",
    "    file_loc=\"data/surnames/inverse_label_dict.dill\", content=inverse_label_dict\n",
    ")\n",
    "inverse_label_dict = utils.dill_load(file_loc=\"data/surnames/inverse_label_dict.dill\")"
   ]
  },
  {
   "cell_type": "code",
   "execution_count": null,
   "metadata": {
    "execution": {
     "iopub.execute_input": "2024-01-14T20:36:34.306908Z",
     "iopub.status.busy": "2024-01-14T20:36:34.306244Z",
     "iopub.status.idle": "2024-01-14T20:36:35.451653Z",
     "shell.execute_reply": "2024-01-14T20:36:35.450671Z",
     "shell.execute_reply.started": "2024-01-14T20:36:34.306878Z"
    },
    "trusted": true
   },
   "outputs": [],
   "source": [
    "# Save the model\n",
    "torch.save(trained_model.state_dict(), \"surname_model_state_dict.pth\")\n",
    "torch.save(trained_model, \"data/surnames/surname_model.pth\")\n",
    "utils.json_dump(\n",
    "    file_loc=\"data/surnames/inverse_label_dict.json\", content=inverse_label_dict\n",
    ")"
   ]
  },
  {
   "cell_type": "code",
   "execution_count": 10,
   "metadata": {},
   "outputs": [],
   "source": [
    "# Load the model\n",
    "device = torch.device(\"cuda\" if torch.cuda.is_available() else \"cpu\")\n",
    "trained_model = torch.load(\"data/surnames/surname_model.pth\", map_location=device)\n",
    "inverse_label_dict = utils.dill_load(file_loc=\"data/surnames/inverse_label_dict.dill\")\n",
    "# model.eval()\n",
    "# trained_model.load_state_dict(torch.load(\"surname_model.pth\"))"
   ]
  },
  {
   "cell_type": "code",
   "execution_count": 15,
   "metadata": {},
   "outputs": [
    {
     "data": {
      "text/plain": [
       "[('Hsieh', 'English'),\n",
       " ('McDonald', 'Spanish'),\n",
       " ('Kharlamov', 'Arabic'),\n",
       " ('Vasiliev', 'English'),\n",
       " ('Bellucci', 'English'),\n",
       " ('Wallace', 'English'),\n",
       " ('Chao', 'Chinese'),\n",
       " ('Boylan', 'English'),\n",
       " ('Burgess', 'Chinese'),\n",
       " ('Cattaneo', 'English')]"
      ]
     },
     "execution_count": 15,
     "metadata": {},
     "output_type": "execute_result"
    }
   ],
   "source": [
    "predicted_surnames"
   ]
  },
  {
   "cell_type": "code",
   "execution_count": 14,
   "metadata": {
    "execution": {
     "iopub.execute_input": "2024-01-14T20:36:45.483794Z",
     "iopub.status.busy": "2024-01-14T20:36:45.483424Z",
     "iopub.status.idle": "2024-01-14T20:37:14.136145Z",
     "shell.execute_reply": "2024-01-14T20:37:14.135274Z",
     "shell.execute_reply.started": "2024-01-14T20:36:45.483763Z"
    },
    "trusted": true
   },
   "outputs": [
    {
     "name": "stderr",
     "output_type": "stream",
     "text": [
      "Predicting Nationalities:   0%|          | 0/10 [00:00<?, ?it/s]Truncation was not explicitly activated but `max_length` is provided a specific value, please use `truncation=True` to explicitly truncate examples to max length. Defaulting to 'longest_first' truncation strategy. If you encode pairs of sequences (GLUE-style) with the tokenizer you can select this strategy more precisely by providing a specific strategy to `truncation`.\n",
      "/mnt/c/#work/ecovadis/ecovadis/lib/python3.10/site-packages/transformers/tokenization_utils_base.py:2674: FutureWarning: The `pad_to_max_length` argument is deprecated and will be removed in a future version, use `padding=True` or `padding='longest'` to pad to the longest sequence in the batch, or use `padding='max_length'` to pad to a max length. In this case, you can give a specific length with `max_length` (e.g. `max_length=45`) or leave max_length to None to pad to the maximal input size of the model (e.g. 512 for Bert).\n",
      "  warnings.warn(\n",
      "                                                                         \r"
     ]
    }
   ],
   "source": [
    "df_pd = pd.read_csv(\"data/dataset.csv\")\n",
    "uq_surnames = df_pd.Surname.unique()\n",
    "tokenizer = BertTokenizer.from_pretrained(\"bert-base-uncased\")\n",
    "predicted_surnames = surname_classification.predict_nationality(\n",
    "    trained_model, uq_surnames[:10], tokenizer, inverse_label_dict, device\n",
    ")"
   ]
  },
  {
   "cell_type": "code",
   "execution_count": null,
   "metadata": {
    "execution": {
     "iopub.execute_input": "2024-01-14T20:37:14.138076Z",
     "iopub.status.busy": "2024-01-14T20:37:14.137767Z",
     "iopub.status.idle": "2024-01-14T20:37:14.159199Z",
     "shell.execute_reply": "2024-01-14T20:37:14.158364Z",
     "shell.execute_reply.started": "2024-01-14T20:37:14.138044Z"
    },
    "trusted": true
   },
   "outputs": [],
   "source": [
    "predicted_df = pd.DataFrame(predicted_surnames, columns=[\"Surname\", \"Nationality\"])\n",
    "predicted_df.to_csv(\"predicted_surnames_dataset.csv\")\n",
    "predicted_df.head()"
   ]
  },
  {
   "cell_type": "code",
   "execution_count": null,
   "metadata": {},
   "outputs": [],
   "source": []
  }
 ],
 "metadata": {
  "kaggle": {
   "accelerator": "gpu",
   "dataSources": [
    {
     "databundleVersionId": 7405009,
     "sourceId": 65711,
     "sourceType": "competition"
    },
    {
     "datasetId": 4259848,
     "sourceId": 7337708,
     "sourceType": "datasetVersion"
    }
   ],
   "dockerImageVersionId": 30635,
   "isGpuEnabled": true,
   "isInternetEnabled": false,
   "language": "python",
   "sourceType": "notebook"
  },
  "kernelspec": {
   "display_name": "Python 3",
   "language": "python",
   "name": "python3"
  },
  "language_info": {
   "codemirror_mode": {
    "name": "ipython",
    "version": 3
   },
   "file_extension": ".py",
   "mimetype": "text/x-python",
   "name": "python",
   "nbconvert_exporter": "python",
   "pygments_lexer": "ipython3",
   "version": "3.10.14"
  }
 },
 "nbformat": 4,
 "nbformat_minor": 4
}
