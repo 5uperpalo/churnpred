{
 "cells": [
  {
   "cell_type": "markdown",
   "metadata": {},
   "source": [
    "## Example usage notebook\n",
    "Objects and functions in this notebook are listed with all paramaters to ilustrate their capabillities. Most of the paramaters have default values in the implementation"
   ]
  },
  {
   "cell_type": "markdown",
   "metadata": {},
   "source": [
    "## Imports"
   ]
  },
  {
   "cell_type": "code",
   "execution_count": 1,
   "metadata": {},
   "outputs": [],
   "source": [
    "import os\n",
    "import json\n",
    "from typing import Literal\n",
    "import pandas as pd\n",
    "\n",
    "from lightv import config\n",
    "from data_preparation.prepare_target import (\n",
    "    BuildBinaryTarget,\n",
    "    BuildMulticlassTarget,\n",
    "    BuildRegressionTarget,\n",
    ")\n",
    "from data_preparation.preprocess_data_general import GeneralPrepareData\n",
    "from lightv.train_test_split.train_test_split import TrainTestSplit\n",
    "from lightv.training.trainer import Trainer\n",
    "from lightv.training.optuna_optimizer import LGBOptunaOptimizer\n",
    "from lightv.training.ray_optimizer import LGBRayTuneOptimizer\n",
    "\n",
    "import dill\n",
    "import numpy as np\n",
    "from lightv.explain.explainer import ShapExplainer\n",
    "from lightv.general_utils import dill_dump\n",
    "from lightv.general_utils import dill_load\n",
    "\n",
    "from ray.tune.suggest.bayesopt import BayesOptSearch\n",
    "from ray.tune.suggest.optuna import OptunaSearch"
   ]
  },
  {
   "cell_type": "markdown",
   "metadata": {},
   "source": [
    "## Train a testing model "
   ]
  },
  {
   "cell_type": "code",
   "execution_count": 2,
   "metadata": {},
   "outputs": [],
   "source": [
    "# 1. get the data\n",
    "from pathlib import Path\n",
    "\n",
    "with open(Path(\"../data\") / config.TOY_DATASET_COLUMNS_DEFINITION_FNAME, \"rb\") as f:\n",
    "    columns_definition = json.load(f)\n",
    "raw_data = pd.read_parquet(Path(\"../data\") / config.TOY_DATASET_FNAME)"
   ]
  },
  {
   "cell_type": "code",
   "execution_count": 3,
   "metadata": {},
   "outputs": [
    {
     "data": {
      "text/plain": [
       "{'id_cols': ['user_id'],\n",
       " 'target': 'target',\n",
       " 'target_ltv': 'target_ltv',\n",
       " 'categorical': ['city_first',\n",
       "  'continent_first',\n",
       "  'country_first',\n",
       "  'state_first',\n",
       "  'mobile_model_name_first',\n",
       "  'campaign_first',\n",
       "  'adset_first',\n",
       "  'af_status_first'],\n",
       " 'target_ltv_cls': 'target_ltv_cls'}"
      ]
     },
     "execution_count": 3,
     "metadata": {},
     "output_type": "execute_result"
    }
   ],
   "source": [
    "columns_definition"
   ]
  },
  {
   "cell_type": "code",
   "execution_count": 4,
   "metadata": {},
   "outputs": [
    {
     "data": {
      "text/html": [
       "<div>\n",
       "<style scoped>\n",
       "    .dataframe tbody tr th:only-of-type {\n",
       "        vertical-align: middle;\n",
       "    }\n",
       "\n",
       "    .dataframe tbody tr th {\n",
       "        vertical-align: top;\n",
       "    }\n",
       "\n",
       "    .dataframe thead th {\n",
       "        text-align: right;\n",
       "    }\n",
       "</style>\n",
       "<table border=\"1\" class=\"dataframe\">\n",
       "  <thead>\n",
       "    <tr style=\"text-align: right;\">\n",
       "      <th></th>\n",
       "      <th>user_id</th>\n",
       "      <th>count_errorfound_time_stamp</th>\n",
       "      <th>count_applaunched_time_stamp</th>\n",
       "      <th>count_applaunched_install_time</th>\n",
       "      <th>count_depositclicked_time_stamp</th>\n",
       "      <th>count_depositdialogviewed_time_stamp</th>\n",
       "      <th>count_depositinitiated_time_stamp</th>\n",
       "      <th>count_depositoffersshowed_time_stamp</th>\n",
       "      <th>count_depositpackclicked_time_stamp</th>\n",
       "      <th>count_depositvaluechanged_time_stamp</th>\n",
       "      <th>...</th>\n",
       "      <th>avg_urostercancelled_rake_amount</th>\n",
       "      <th>min_urostercancelled_rake_amount</th>\n",
       "      <th>max_urostercancelled_rake_amount</th>\n",
       "      <th>avg_memoryinfoongamelaunch_native_memory_now_in_mb</th>\n",
       "      <th>min_memoryinfoongamelaunch_native_memory_now_in_mb</th>\n",
       "      <th>max_memoryinfoongamelaunch_native_memory_now_in_mb</th>\n",
       "      <th>count_topupdialogviewed_app_version</th>\n",
       "      <th>count_g_bench_low_fps_time_stamp</th>\n",
       "      <th>target_ltv</th>\n",
       "      <th>target</th>\n",
       "    </tr>\n",
       "  </thead>\n",
       "  <tbody>\n",
       "    <tr>\n",
       "      <th>0</th>\n",
       "      <td>005vT7y75hVO1fZMsSR6W1h9l583</td>\n",
       "      <td>56</td>\n",
       "      <td>11</td>\n",
       "      <td>0</td>\n",
       "      <td>5</td>\n",
       "      <td>2</td>\n",
       "      <td>3</td>\n",
       "      <td>13</td>\n",
       "      <td>3</td>\n",
       "      <td>19</td>\n",
       "      <td>...</td>\n",
       "      <td>&lt;NA&gt;</td>\n",
       "      <td>&lt;NA&gt;</td>\n",
       "      <td>&lt;NA&gt;</td>\n",
       "      <td>41.804474</td>\n",
       "      <td>41.804474</td>\n",
       "      <td>41.804474</td>\n",
       "      <td>16</td>\n",
       "      <td>9</td>\n",
       "      <td>1.257455</td>\n",
       "      <td>1.257455</td>\n",
       "    </tr>\n",
       "    <tr>\n",
       "      <th>1</th>\n",
       "      <td>00EbaSg3fTO7Sev8pYoWAJq9Hc43</td>\n",
       "      <td>50</td>\n",
       "      <td>5</td>\n",
       "      <td>0</td>\n",
       "      <td>1</td>\n",
       "      <td>&lt;NA&gt;</td>\n",
       "      <td>1</td>\n",
       "      <td>7</td>\n",
       "      <td>&lt;NA&gt;</td>\n",
       "      <td>7</td>\n",
       "      <td>...</td>\n",
       "      <td>&lt;NA&gt;</td>\n",
       "      <td>&lt;NA&gt;</td>\n",
       "      <td>&lt;NA&gt;</td>\n",
       "      <td>&lt;NA&gt;</td>\n",
       "      <td>&lt;NA&gt;</td>\n",
       "      <td>&lt;NA&gt;</td>\n",
       "      <td>5</td>\n",
       "      <td>&lt;NA&gt;</td>\n",
       "      <td>6.185779</td>\n",
       "      <td>6.185779</td>\n",
       "    </tr>\n",
       "    <tr>\n",
       "      <th>2</th>\n",
       "      <td>00FQoVOsL7Qke16BNqqsHoyt7Ul1</td>\n",
       "      <td>26</td>\n",
       "      <td>1</td>\n",
       "      <td>0</td>\n",
       "      <td>1</td>\n",
       "      <td>&lt;NA&gt;</td>\n",
       "      <td>1</td>\n",
       "      <td>4</td>\n",
       "      <td>&lt;NA&gt;</td>\n",
       "      <td>1</td>\n",
       "      <td>...</td>\n",
       "      <td>&lt;NA&gt;</td>\n",
       "      <td>&lt;NA&gt;</td>\n",
       "      <td>&lt;NA&gt;</td>\n",
       "      <td>312.256586</td>\n",
       "      <td>51.415237</td>\n",
       "      <td>829.290985</td>\n",
       "      <td>1</td>\n",
       "      <td>&lt;NA&gt;</td>\n",
       "      <td>5.475</td>\n",
       "      <td>5.475</td>\n",
       "    </tr>\n",
       "    <tr>\n",
       "      <th>3</th>\n",
       "      <td>00HAhMxOURSSwmEVhSfQDKwRxKz1</td>\n",
       "      <td>250</td>\n",
       "      <td>61</td>\n",
       "      <td>0</td>\n",
       "      <td>2</td>\n",
       "      <td>3</td>\n",
       "      <td>&lt;NA&gt;</td>\n",
       "      <td>1</td>\n",
       "      <td>&lt;NA&gt;</td>\n",
       "      <td>7</td>\n",
       "      <td>...</td>\n",
       "      <td>&lt;NA&gt;</td>\n",
       "      <td>&lt;NA&gt;</td>\n",
       "      <td>&lt;NA&gt;</td>\n",
       "      <td>59.93631</td>\n",
       "      <td>59.93631</td>\n",
       "      <td>59.93631</td>\n",
       "      <td>22</td>\n",
       "      <td>11</td>\n",
       "      <td>0.30936</td>\n",
       "      <td>0.30936</td>\n",
       "    </tr>\n",
       "    <tr>\n",
       "      <th>4</th>\n",
       "      <td>00JEpTvvm4RXvv8wkihCTVAngAH3</td>\n",
       "      <td>12</td>\n",
       "      <td>1</td>\n",
       "      <td>0</td>\n",
       "      <td>&lt;NA&gt;</td>\n",
       "      <td>&lt;NA&gt;</td>\n",
       "      <td>&lt;NA&gt;</td>\n",
       "      <td>1</td>\n",
       "      <td>&lt;NA&gt;</td>\n",
       "      <td>&lt;NA&gt;</td>\n",
       "      <td>...</td>\n",
       "      <td>&lt;NA&gt;</td>\n",
       "      <td>&lt;NA&gt;</td>\n",
       "      <td>&lt;NA&gt;</td>\n",
       "      <td>64.058823</td>\n",
       "      <td>64.058823</td>\n",
       "      <td>64.058823</td>\n",
       "      <td>2</td>\n",
       "      <td>&lt;NA&gt;</td>\n",
       "      <td>0.087146</td>\n",
       "      <td>0.087146</td>\n",
       "    </tr>\n",
       "  </tbody>\n",
       "</table>\n",
       "<p>5 rows × 246 columns</p>\n",
       "</div>"
      ],
      "text/plain": [
       "                        user_id  count_errorfound_time_stamp  \\\n",
       "0  005vT7y75hVO1fZMsSR6W1h9l583                           56   \n",
       "1  00EbaSg3fTO7Sev8pYoWAJq9Hc43                           50   \n",
       "2  00FQoVOsL7Qke16BNqqsHoyt7Ul1                           26   \n",
       "3  00HAhMxOURSSwmEVhSfQDKwRxKz1                          250   \n",
       "4  00JEpTvvm4RXvv8wkihCTVAngAH3                           12   \n",
       "\n",
       "   count_applaunched_time_stamp  count_applaunched_install_time  \\\n",
       "0                            11                               0   \n",
       "1                             5                               0   \n",
       "2                             1                               0   \n",
       "3                            61                               0   \n",
       "4                             1                               0   \n",
       "\n",
       "   count_depositclicked_time_stamp  count_depositdialogviewed_time_stamp  \\\n",
       "0                                5                                     2   \n",
       "1                                1                                  <NA>   \n",
       "2                                1                                  <NA>   \n",
       "3                                2                                     3   \n",
       "4                             <NA>                                  <NA>   \n",
       "\n",
       "   count_depositinitiated_time_stamp  count_depositoffersshowed_time_stamp  \\\n",
       "0                                  3                                    13   \n",
       "1                                  1                                     7   \n",
       "2                                  1                                     4   \n",
       "3                               <NA>                                     1   \n",
       "4                               <NA>                                     1   \n",
       "\n",
       "   count_depositpackclicked_time_stamp  count_depositvaluechanged_time_stamp  \\\n",
       "0                                    3                                    19   \n",
       "1                                 <NA>                                     7   \n",
       "2                                 <NA>                                     1   \n",
       "3                                 <NA>                                     7   \n",
       "4                                 <NA>                                  <NA>   \n",
       "\n",
       "   ...  avg_urostercancelled_rake_amount  min_urostercancelled_rake_amount  \\\n",
       "0  ...                              <NA>                              <NA>   \n",
       "1  ...                              <NA>                              <NA>   \n",
       "2  ...                              <NA>                              <NA>   \n",
       "3  ...                              <NA>                              <NA>   \n",
       "4  ...                              <NA>                              <NA>   \n",
       "\n",
       "   max_urostercancelled_rake_amount  \\\n",
       "0                              <NA>   \n",
       "1                              <NA>   \n",
       "2                              <NA>   \n",
       "3                              <NA>   \n",
       "4                              <NA>   \n",
       "\n",
       "   avg_memoryinfoongamelaunch_native_memory_now_in_mb  \\\n",
       "0                                          41.804474    \n",
       "1                                               <NA>    \n",
       "2                                         312.256586    \n",
       "3                                           59.93631    \n",
       "4                                          64.058823    \n",
       "\n",
       "   min_memoryinfoongamelaunch_native_memory_now_in_mb  \\\n",
       "0                                          41.804474    \n",
       "1                                               <NA>    \n",
       "2                                          51.415237    \n",
       "3                                           59.93631    \n",
       "4                                          64.058823    \n",
       "\n",
       "   max_memoryinfoongamelaunch_native_memory_now_in_mb  \\\n",
       "0                                          41.804474    \n",
       "1                                               <NA>    \n",
       "2                                         829.290985    \n",
       "3                                           59.93631    \n",
       "4                                          64.058823    \n",
       "\n",
       "   count_topupdialogviewed_app_version  count_g_bench_low_fps_time_stamp  \\\n",
       "0                                   16                                 9   \n",
       "1                                    5                              <NA>   \n",
       "2                                    1                              <NA>   \n",
       "3                                   22                                11   \n",
       "4                                    2                              <NA>   \n",
       "\n",
       "   target_ltv    target  \n",
       "0    1.257455  1.257455  \n",
       "1    6.185779  6.185779  \n",
       "2       5.475     5.475  \n",
       "3     0.30936   0.30936  \n",
       "4    0.087146  0.087146  \n",
       "\n",
       "[5 rows x 246 columns]"
      ]
     },
     "execution_count": 4,
     "metadata": {},
     "output_type": "execute_result"
    }
   ],
   "source": [
    "raw_data.head()"
   ]
  },
  {
   "cell_type": "code",
   "execution_count": 5,
   "metadata": {},
   "outputs": [],
   "source": [
    "objective: Literal[\"binary\", \"multiclass\", \"regression\", \"quantile_regression\"] = (\n",
    "    \"quantile_regression\"\n",
    ")\n",
    "if objective == \"binary\":\n",
    "    prepare_target = BuildBinaryTarget(\n",
    "        target_col=columns_definition[\"target_ltv\"],\n",
    "        binary_strategy=\"threshold\",\n",
    "        binary_threshold=500.0,\n",
    "    )\n",
    "    n_class = 2\n",
    "    data = prepare_target.transform(df=raw_data)\n",
    "if objective == \"multiclass\":\n",
    "    prepare_target = BuildMulticlassTarget(\n",
    "        target_col=columns_definition[\"target_ltv\"],\n",
    "        multiclass_bins=[0, 500, 1000, 2000, np.inf],\n",
    "    )\n",
    "    n_class = 4\n",
    "    data = prepare_target.transform(df=raw_data)\n",
    "if objective in [\"regression\", \"quantile_regression\"]:\n",
    "    prepare_target = BuildRegressionTarget(\n",
    "        target_col=columns_definition[\"target_ltv\"],\n",
    "        regression_early_target_col=None,\n",
    "        regression_strategy=None,\n",
    "        regression_target_col_thr=None,\n",
    "        regression_early_target_thr_range=None,\n",
    "    )\n",
    "    n_class = None\n",
    "    data = prepare_target.transform(df=raw_data)\n",
    "\n",
    "prepare_data = GeneralPrepareData(\n",
    "    target_col=prepare_target.final_target_col,\n",
    "    id_cols=columns_definition[\"id_cols\"],\n",
    "    init_cat_cols=[],\n",
    "    cat_threshold=200,\n",
    "    init_cont_cols=[],\n",
    "    verbose=False,\n",
    ")\n",
    "prepare_data.fit(df=data)"
   ]
  },
  {
   "cell_type": "code",
   "execution_count": 6,
   "metadata": {},
   "outputs": [
    {
     "data": {
      "text/plain": [
       "0        1.257455\n",
       "1        6.185779\n",
       "2           5.475\n",
       "3         0.30936\n",
       "4        0.087146\n",
       "           ...   \n",
       "45530    0.213628\n",
       "45531         0.0\n",
       "45532        0.18\n",
       "45533      4.2375\n",
       "45534    0.048434\n",
       "Name: target_ltv_regression, Length: 45535, dtype: Float64"
      ]
     },
     "execution_count": 6,
     "metadata": {},
     "output_type": "execute_result"
    }
   ],
   "source": [
    "data[prepare_target.final_target_col]"
   ]
  },
  {
   "cell_type": "code",
   "execution_count": 7,
   "metadata": {},
   "outputs": [
    {
     "name": "stderr",
     "output_type": "stream",
     "text": [
      "2022-09-08 18:24:36,642\tWARNING function_runner.py:603 -- Function checkpointing is disabled. This may result in unexpected behavior when using checkpointing features or certain schedulers. To enable, set the train function arguments to be `func(config, checkpoint_dir=None)`.\n",
      "2022-09-08 18:24:36,647\tWARNING bayesopt.py:408 -- BayesOpt does not support specific sampling methods. The Uniform sampler will be dropped.\n",
      "2022-09-08 18:24:36,647\tWARNING bayesopt.py:408 -- BayesOpt does not support specific sampling methods. The Uniform sampler will be dropped.\n",
      "2022-09-08 18:24:36,648\tWARNING bayesopt.py:408 -- BayesOpt does not support specific sampling methods. The Uniform sampler will be dropped.\n",
      "2022-09-08 18:24:36,648\tWARNING bayesopt.py:408 -- BayesOpt does not support specific sampling methods. The Uniform sampler will be dropped.\n",
      "2022-09-08 18:24:36,648\tWARNING bayesopt.py:408 -- BayesOpt does not support specific sampling methods. The Uniform sampler will be dropped.\n",
      "2022-09-08 18:24:36,649\tWARNING bayesopt.py:408 -- BayesOpt does not support specific sampling methods. The Uniform sampler will be dropped.\n",
      "2022-09-08 18:24:36,649\tWARNING bayesopt.py:408 -- BayesOpt does not support specific sampling methods. The Uniform sampler will be dropped.\n",
      "2022-09-08 18:24:36,943\tERROR syncer.py:147 -- Log sync requires rsync to be installed.\n",
      "2022-09-08 18:25:14,754\tWARNING bayesopt.py:408 -- BayesOpt does not support specific sampling methods. The Uniform sampler will be dropped.\n",
      "2022-09-08 18:25:14,754\tWARNING bayesopt.py:408 -- BayesOpt does not support specific sampling methods. The Uniform sampler will be dropped.\n",
      "2022-09-08 18:25:14,755\tWARNING bayesopt.py:408 -- BayesOpt does not support specific sampling methods. The Uniform sampler will be dropped.\n",
      "2022-09-08 18:25:14,755\tWARNING bayesopt.py:408 -- BayesOpt does not support specific sampling methods. The Uniform sampler will be dropped.\n",
      "2022-09-08 18:25:14,756\tWARNING bayesopt.py:408 -- BayesOpt does not support specific sampling methods. The Uniform sampler will be dropped.\n",
      "2022-09-08 18:25:14,756\tWARNING bayesopt.py:408 -- BayesOpt does not support specific sampling methods. The Uniform sampler will be dropped.\n",
      "2022-09-08 18:25:14,757\tWARNING bayesopt.py:408 -- BayesOpt does not support specific sampling methods. The Uniform sampler will be dropped.\n",
      "2022-09-08 18:25:14,766\tINFO bayesopt.py:270 -- Skipping duplicated config: {'feature_fraction': 0.6872700594236812, 'lambda_l1': 9.507635921035062, 'lambda_l2': 7.322619478695937, 'learning_rate': 0.18361096041714062, 'min_child_samples': 32.48149123539492, 'n_estimators': 577.9972601681013, 'num_leaves': 55.101739163731864}.\n",
      "2022-09-08 18:25:14,766\tINFO bayesopt.py:270 -- Skipping duplicated config: {'feature_fraction': 0.9330880728874675, 'lambda_l1': 6.015138967314656, 'lambda_l2': 7.0836450521824945, 'learning_rate': 0.01596950334578271, 'min_child_samples': 97.59278817295954, 'n_estimators': 916.2213204002109, 'num_leaves': 95.2081687763518}.\n",
      "2022-09-08 18:25:56,925\tWARNING bayesopt.py:408 -- BayesOpt does not support specific sampling methods. The Uniform sampler will be dropped.\n",
      "2022-09-08 18:25:56,926\tWARNING bayesopt.py:408 -- BayesOpt does not support specific sampling methods. The Uniform sampler will be dropped.\n",
      "2022-09-08 18:25:56,926\tWARNING bayesopt.py:408 -- BayesOpt does not support specific sampling methods. The Uniform sampler will be dropped.\n",
      "2022-09-08 18:25:56,927\tWARNING bayesopt.py:408 -- BayesOpt does not support specific sampling methods. The Uniform sampler will be dropped.\n",
      "2022-09-08 18:25:56,927\tWARNING bayesopt.py:408 -- BayesOpt does not support specific sampling methods. The Uniform sampler will be dropped.\n",
      "2022-09-08 18:25:56,927\tWARNING bayesopt.py:408 -- BayesOpt does not support specific sampling methods. The Uniform sampler will be dropped.\n",
      "2022-09-08 18:25:56,928\tWARNING bayesopt.py:408 -- BayesOpt does not support specific sampling methods. The Uniform sampler will be dropped.\n",
      "2022-09-08 18:25:56,943\tINFO bayesopt.py:270 -- Skipping duplicated config: {'feature_fraction': 0.6872700594236812, 'lambda_l1': 9.507635921035062, 'lambda_l2': 7.322619478695937, 'learning_rate': 0.18361096041714062, 'min_child_samples': 32.48149123539492, 'n_estimators': 577.9972601681013, 'num_leaves': 55.101739163731864}.\n",
      "2022-09-08 18:25:56,944\tINFO bayesopt.py:270 -- Skipping duplicated config: {'feature_fraction': 0.9330880728874675, 'lambda_l1': 6.015138967314656, 'lambda_l2': 7.0836450521824945, 'learning_rate': 0.01596950334578271, 'min_child_samples': 97.59278817295954, 'n_estimators': 916.2213204002109, 'num_leaves': 95.2081687763518}.\n",
      "2022-09-08 18:25:57,945\tINFO bayesopt.py:270 -- Skipping duplicated config: {'feature_fraction': 0.5909124836035503, 'lambda_l1': 1.8422110534358038, 'lambda_l2': 3.0493800071657815, 'learning_rate': 0.16217936517334897, 'min_child_samples': 54.55560149136926, 'n_estimators': 645.614570099021, 'num_leaves': 199.08175262781867}.\n",
      "2022-09-08 18:25:58,947\tINFO bayesopt.py:270 -- Skipping duplicated config: {'feature_fraction': 0.569746930326021, 'lambda_l1': 2.9285250388668294, 'lambda_l2': 3.66995481450398, 'learning_rate': 0.1422602954229404, 'min_child_samples': 82.81407691144109, 'n_estimators': 599.8368910791798, 'num_leaves': 173.700953987539}.\n"
     ]
    },
    {
     "name": "stdout",
     "output_type": "stream",
     "text": [
      "Training until validation scores don't improve for 20 rounds\n",
      "Did not meet early stopping. Best iteration is:\n",
      "[916]\tval's quantile: 7.72227\n",
      "Training until validation scores don't improve for 20 rounds\n",
      "Early stopping, best iteration is:\n",
      "[142]\tval's quantile: 12.9393\n",
      "Training until validation scores don't improve for 20 rounds\n",
      "Early stopping, best iteration is:\n",
      "[21]\tval's quantile: 16.5444\n"
     ]
    }
   ],
   "source": [
    "splitter = TrainTestSplit(\n",
    "    target_col=prepare_data.target_col,\n",
    "    temporal_col=None,\n",
    "    temporal=False,\n",
    "    target_type=objective,\n",
    "    test_size=0.2,\n",
    "    valid_size=0.5,\n",
    "    random_state=0,\n",
    "    save_dir=None,\n",
    ")\n",
    "\n",
    "# optimizer = LGBOptunaOptimizer(\n",
    "#         objective=objective,\n",
    "#         quantiles=[0.25, 0.5, 0.75],\n",
    "#         n_class=n_class,\n",
    "#         loss=None,\n",
    "#     )\n",
    "\n",
    "optimizer = LGBRayTuneOptimizer(\n",
    "    opt_metric=\"quantile\",\n",
    "    objective=objective,\n",
    "    search_alg=BayesOptSearch(),\n",
    "    loss=None,\n",
    "    n_class=n_class,\n",
    "    num_samples=2,\n",
    "    search_params=None,\n",
    "    scheduler=None,\n",
    ")\n",
    "\n",
    "trainer = Trainer(\n",
    "    cat_cols=prepare_data.cat_cols,\n",
    "    target_col=prepare_data.target_col,\n",
    "    id_cols=prepare_data.id_cols,\n",
    "    objective=objective,\n",
    "    loss=None,\n",
    "    n_class=n_class,\n",
    "    optimizer=optimizer,\n",
    "    preprocessors=[prepare_data],\n",
    ")\n",
    "\n",
    "metrics_dict = trainer.fit(\n",
    "    df=data,\n",
    "    splitter=splitter,\n",
    ")\n",
    "trainer.train(df_train=data)"
   ]
  },
  {
   "cell_type": "code",
   "execution_count": 11,
   "metadata": {},
   "outputs": [],
   "source": [
    "# save/load trainer\n",
    "dill_dump(\"temp.dill\", trainer)\n",
    "trainer = dill_load(\"temp.dill\")"
   ]
  },
  {
   "cell_type": "code",
   "execution_count": 11,
   "metadata": {},
   "outputs": [
    {
     "data": {
      "text/plain": [
       "{'0.25': <lightgbm.basic.Booster at 0x7f56f18863d0>,\n",
       " '0.5': <lightgbm.basic.Booster at 0x7f5741000e80>,\n",
       " '0.75': <lightgbm.basic.Booster at 0x7f5741000fa0>}"
      ]
     },
     "execution_count": 11,
     "metadata": {},
     "output_type": "execute_result"
    }
   ],
   "source": [
    "trainer.model"
   ]
  },
  {
   "cell_type": "code",
   "execution_count": 8,
   "metadata": {},
   "outputs": [
    {
     "data": {
      "text/plain": [
       "{'rmse': 509.9134897739657,\n",
       " 'mae': 21.686365327106138,\n",
       " 'r2': 0.4425859946485303,\n",
       " 'mpl_0.25': 6.676980358164174,\n",
       " 'mpl_0.5': 10.843182663553069,\n",
       " 'mpl_0.75': 13.633560813657759}"
      ]
     },
     "execution_count": 8,
     "metadata": {},
     "output_type": "execute_result"
    }
   ],
   "source": [
    "metrics_dict"
   ]
  },
  {
   "cell_type": "markdown",
   "metadata": {},
   "source": [
    "## Explain the predictions"
   ]
  },
  {
   "cell_type": "code",
   "execution_count": 10,
   "metadata": {},
   "outputs": [
    {
     "data": {
      "text/plain": [
       "0        1.257455\n",
       "1        6.185779\n",
       "2           5.475\n",
       "3         0.30936\n",
       "4        0.087146\n",
       "           ...   \n",
       "45530    0.213628\n",
       "45531         0.0\n",
       "45532        0.18\n",
       "45533      4.2375\n",
       "45534    0.048434\n",
       "Name: target_ltv, Length: 45535, dtype: Float64"
      ]
     },
     "execution_count": 10,
     "metadata": {},
     "output_type": "execute_result"
    }
   ],
   "source": [
    "data[columns_definition[\"target_ltv\"]]"
   ]
  },
  {
   "cell_type": "code",
   "execution_count": 11,
   "metadata": {},
   "outputs": [],
   "source": [
    "# from lightv.general_utils import save_to_dir\n",
    "# data_to_predict = prepare_data.transform(data).drop(columns=[prepare_data.target_col])\n",
    "# data_predict = trainer.predict(data_to_predict)\n",
    "# data_predict_cls = trainer.predict_cls(data_to_predict)\n",
    "# data_predict_proba = trainer.predict_proba(data_to_predict)\n",
    "\n",
    "# save_to_dir(objects=[(data_predict, \"data_predict_multiclass.parquet\"), (data_predict_cls, \"data_predict_multiclass_cls.parquet\"), (data_predict_proba, \"data_predict_multiclass_proba.parquet\")], save_dir=\"results\")\n",
    "save_to_dir(\n",
    "    objects=[\n",
    "        (data[columns_definition[\"target_ltv\"]], \"data_ground_truth_regression.parquet\")\n",
    "    ],\n",
    "    save_dir=\"results\",\n",
    ")"
   ]
  },
  {
   "cell_type": "code",
   "execution_count": 6,
   "metadata": {},
   "outputs": [],
   "source": [
    "# save/load trainer\n",
    "# dill_dump(\"temp.dill\", trainer)\n",
    "# trainer = dill_load(\"temp.dill\")"
   ]
  },
  {
   "cell_type": "code",
   "execution_count": 8,
   "metadata": {},
   "outputs": [],
   "source": [
    "data_to_explain = prepare_data.transform(data.loc[:0]).drop(\n",
    "    columns=prepare_data.id_cols + [prepare_data.target_col]\n",
    ")"
   ]
  },
  {
   "cell_type": "code",
   "execution_count": 9,
   "metadata": {},
   "outputs": [
    {
     "data": {
      "image/png": "[encoded data removed]",
      "text/plain": [
       "<Figure size 576x684 with 1 Axes>"
      ]
     },
     "metadata": {
      "needs_background": "light"
     },
     "output_type": "display_data"
    }
   ],
   "source": [
    "shap_explainer = ShapExplainer()\n",
    "shap_explainer.fit(\n",
    "    model=trainer.model,\n",
    "    objective=objective,\n",
    "    explainer_type=\"default\",\n",
    ")\n",
    "shap_explainer.explain_decision_plot(\n",
    "    X_tab_explain=data_to_explain.values[0],\n",
    "    feature_names=data_to_explain.columns.to_list(),\n",
    ")"
   ]
  }
 ],
 "metadata": {
  "@webio": {
   "lastCommId": null,
   "lastKernelId": null
  },
  "hide_input": false,
  "interpreter": {
   "hash": "607fd6e109c58f0c2b9243752eb24f156017faf2fedd41f01500ce520d155ec1"
  },
  "kernelspec": {
   "display_name": "Python 3",
   "language": "python",
   "name": "python3"
  },
  "language_info": {
   "codemirror_mode": {
    "name": "ipython",
    "version": 3
   },
   "file_extension": ".py",
   "mimetype": "text/x-python",
   "name": "python",
   "nbconvert_exporter": "python",
   "pygments_lexer": "ipython3",
   "version": "3.9.7"
  },
  "toc": {
   "base_numbering": 1,
   "nav_menu": {},
   "number_sections": true,
   "sideBar": true,
   "skip_h1_title": false,
   "title_cell": "Table of Contents",
   "title_sidebar": "Contents",
   "toc_cell": false,
   "toc_position": {
    "height": "calc(100% - 180px)",
    "left": "10px",
    "top": "150px",
    "width": "222.539px"
   },
   "toc_section_display": true,
   "toc_window_display": true
  },
  "toc-autonumbering": true
 },
 "nbformat": 4,
 "nbformat_minor": 4
}
